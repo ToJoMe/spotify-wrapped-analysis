{
 "cells": [
  {
   "cell_type": "code",
   "execution_count": 1,
   "metadata": {
    "collapsed": true
   },
   "outputs": [],
   "source": [
    "import pandas as pd\n",
    "import os\n",
    "from datetime import datetime\n",
    "import time\n",
    "from os.path import exists\n",
    "from time import sleep\n",
    "import requests\n",
    "from tqdm import tqdm\n",
    "import requests\n",
    "import random\n",
    "import json\n",
    "import warnings\n",
    "warnings.filterwarnings(\"ignore\")\n",
    "\n",
    "pd.set_option('display.max_rows', None)\n",
    "pd.set_option('display.max_columns', None)\n",
    "pd.set_option('display.max_colwidth', None)"
   ]
  },
  {
   "cell_type": "code",
   "execution_count": null,
   "outputs": [],
   "source": [],
   "metadata": {
    "collapsed": false
   }
  },
  {
   "cell_type": "markdown",
   "source": [
    "# Spotify-Data-Preprocessing"
   ],
   "metadata": {
    "collapsed": false
   }
  },
  {
   "cell_type": "markdown",
   "source": [
    "### Functions"
   ],
   "metadata": {
    "collapsed": false
   }
  },
  {
   "cell_type": "code",
   "execution_count": 32,
   "outputs": [],
   "source": [
    "def load_append_jsons(number):\n",
    "    \"\"\"\n",
    "    Combines multiple json files into one dataframe and save the dataframe as a new csv-file.\n",
    "    :param int number: number of jsons\n",
    "    :return: dataframe with combined json files\n",
    "    \"\"\"\n",
    "\n",
    "    # initialize first dataframe\n",
    "    df_final = pd.read_json(r'endsong_0.json')\n",
    "\n",
    "    # loop to append the other jsons to one dataframe\n",
    "    for i in range(1, number):\n",
    "        df_add = pd.read_json(f'endsong_{i}.json')\n",
    "        df_final = df_final.append(df_add, ignore_index = True)\n",
    "        #print(\"working\")\n",
    "\n",
    "    # save as a new file\n",
    "    filename = \"spotify_data.xlsx\"\n",
    "\n",
    "    if os.path.exists(filename):\n",
    "        print(\"File already exists!\")\n",
    "        pass\n",
    "    else:\n",
    "        df_final.to_excel(filename, encoding=\"utf-8\")\n",
    "        print(\"File was saved!\")\n",
    "\n",
    "    return df_final\n"
   ],
   "metadata": {
    "collapsed": false
   }
  },
  {
   "cell_type": "code",
   "execution_count": null,
   "outputs": [],
   "source": [
    "def cleaning(df):\n",
    "    \"\"\"\n",
    "    Cleaning of dataframe to get additional numeric values in different time formats.\n",
    "    :param df: dataframe as input\n",
    "    :return: cleaned dataframe\n",
    "    \"\"\"\n",
    "    # convert to datetime datatype\n",
    "    df['ts']= pd.to_datetime(df['ts'])\n",
    "\n",
    "    # extend dataframe\n",
    "    df['year'] = pd.DatetimeIndex(df['ts']).year\n",
    "    df['second_played'] = df['ms_played'] / 1000\n",
    "    df['minutes_played'] = df['second_played'] / 60\n",
    "    df['uri'] = df[\"spotify_track_uri\"].str.split(':').str[2]\n",
    "    df['pod_uri'] = df[\"spotify_episode_uri\"].str.split(':').str[2]\n",
    "\n",
    "    # rearange dataframe\n",
    "    df_final = df[['ts', 'year', 'username', 'platform','master_metadata_album_artist_name', 'master_metadata_album_album_name', 'master_metadata_track_name','uri', 'spotify_track_uri', 'ms_played', 'second_played', 'minutes_played', 'conn_country', 'ip_addr_decrypted', 'user_agent_decrypted', 'episode_name', 'episode_show_name', 'spotify_episode_uri', 'pod_uri', 'reason_start', 'reason_end', 'shuffle', 'skipped','offline', 'offline_timestamp', 'incognito_mode']]\n",
    "\n",
    "    # delete null values\n",
    "    indexTrack = df_final[(df_final['master_metadata_album_artist_name'].isna()) & (df_final['episode_show_name'].isna())].index\n",
    "    df_final.drop(indexTrack , inplace=True)\n",
    "\n",
    "    return df_final"
   ],
   "metadata": {
    "collapsed": false
   }
  },
  {
   "cell_type": "code",
   "execution_count": null,
   "outputs": [],
   "source": [
    "def splitting(df):\n",
    "    \"\"\"\n",
    "    Split the dataframe into music streaming history and podcast streaming history\n",
    "    :param df: dataframe as input\n",
    "    :return: two dataframes for music and podcasts\n",
    "    \"\"\"\n",
    "    # splitting dataframe into podcasts and tracks\n",
    "    # dataframe for podcasts\n",
    "    df_podcasts = df[df['master_metadata_album_artist_name'].isna()]\n",
    "    # drop not relevant columns\n",
    "    df_podcasts.drop(['master_metadata_album_artist_name', 'master_metadata_album_album_name', 'master_metadata_track_name', 'uri', 'spotify_track_uri'], axis=1, inplace=True)\n",
    "\n",
    "    # dataframe for tracks\n",
    "    df_tracks = df[df['episode_show_name'].isna()]\n",
    "    # drop not relevant columns\n",
    "    df_tracks.drop(['episode_name', 'episode_show_name', 'spotify_episode_uri', 'pod_uri'], axis=1, inplace=True)\n",
    "\n",
    "    return df_tracks, df_podcasts"
   ],
   "metadata": {
    "collapsed": false
   }
  },
  {
   "cell_type": "code",
   "execution_count": 33,
   "outputs": [
    {
     "name": "stdout",
     "output_type": "stream",
     "text": [
      "File was saved!\n"
     ]
    }
   ],
   "source": [
    "df_stream = load_append_jsons(9)"
   ],
   "metadata": {
    "collapsed": false
   }
  },
  {
   "cell_type": "code",
   "execution_count": 42,
   "outputs": [
    {
     "name": "stdout",
     "output_type": "stream",
     "text": [
      "<class 'pandas.core.frame.DataFrame'>\n",
      "Int64Index: 147512 entries, 0 to 147511\n",
      "Data columns (total 21 columns):\n",
      " #   Column                             Non-Null Count   Dtype  \n",
      "---  ------                             --------------   -----  \n",
      " 0   ts                                 147512 non-null  object \n",
      " 1   username                           147512 non-null  int64  \n",
      " 2   platform                           147512 non-null  object \n",
      " 3   ms_played                          147512 non-null  int64  \n",
      " 4   conn_country                       147512 non-null  object \n",
      " 5   ip_addr_decrypted                  147512 non-null  object \n",
      " 6   user_agent_decrypted               147100 non-null  object \n",
      " 7   master_metadata_track_name         145372 non-null  object \n",
      " 8   master_metadata_album_artist_name  145372 non-null  object \n",
      " 9   master_metadata_album_album_name   145372 non-null  object \n",
      " 10  spotify_track_uri                  145372 non-null  object \n",
      " 11  episode_name                       1798 non-null    object \n",
      " 12  episode_show_name                  1798 non-null    object \n",
      " 13  spotify_episode_uri                1798 non-null    object \n",
      " 14  reason_start                       147454 non-null  object \n",
      " 15  reason_end                         147463 non-null  object \n",
      " 16  shuffle                            147512 non-null  bool   \n",
      " 17  skipped                            23730 non-null   float64\n",
      " 18  offline                            147512 non-null  bool   \n",
      " 19  offline_timestamp                  147512 non-null  int64  \n",
      " 20  incognito_mode                     147512 non-null  bool   \n",
      "dtypes: bool(3), float64(1), int64(3), object(14)\n",
      "memory usage: 21.8+ MB\n"
     ]
    }
   ],
   "source": [
    "df_stream.info()"
   ],
   "metadata": {
    "collapsed": false
   }
  },
  {
   "cell_type": "code",
   "execution_count": 1,
   "outputs": [],
   "source": [
    "df_stream_clean = cleaning(df_stream)"
   ],
   "metadata": {
    "collapsed": false
   }
  },
  {
   "cell_type": "code",
   "execution_count": 2,
   "outputs": [],
   "source": [
    "df_stream_clean.head()"
   ],
   "metadata": {
    "collapsed": false
   }
  },
  {
   "cell_type": "code",
   "execution_count": 48,
   "outputs": [],
   "source": [
    "df_track, df_pod = splitting(df_stream_clean)"
   ],
   "metadata": {
    "collapsed": false
   }
  },
  {
   "cell_type": "code",
   "execution_count": null,
   "outputs": [],
   "source": [
    "#df_track.to_csv(\"music_streaming_data.csv\", encoding=\"utf-8\")\n",
    "#df_pod.to_csv(\"podcast_streaming_data.csv\", encoding=\"utf-8\")"
   ],
   "metadata": {
    "collapsed": false
   }
  },
  {
   "cell_type": "code",
   "execution_count": null,
   "outputs": [],
   "source": [],
   "metadata": {
    "collapsed": false
   }
  },
  {
   "cell_type": "code",
   "execution_count": null,
   "outputs": [],
   "source": [],
   "metadata": {
    "collapsed": false
   }
  },
  {
   "cell_type": "markdown",
   "source": [
    "### Working with cleaned datasets"
   ],
   "metadata": {
    "collapsed": false
   }
  },
  {
   "cell_type": "code",
   "execution_count": 2,
   "outputs": [],
   "source": [
    "df_podcast = pd.read_csv(\"podcast_streaming_data.csv\", index_col=[0])\n",
    "df_podcast = df_podcast.reset_index(drop=True)\n",
    "df_music = pd.read_csv(\"music_streaming_data.csv\", index_col=[0])\n",
    "df_music = df_music.reset_index(drop=True)"
   ],
   "metadata": {
    "collapsed": false
   }
  },
  {
   "cell_type": "code",
   "execution_count": 3,
   "outputs": [],
   "source": [
    "df_podcast.head()"
   ],
   "metadata": {
    "collapsed": false
   }
  },
  {
   "cell_type": "code",
   "execution_count": 4,
   "outputs": [],
   "source": [
    "df_music.head()"
   ],
   "metadata": {
    "collapsed": false
   }
  },
  {
   "cell_type": "code",
   "execution_count": null,
   "outputs": [],
   "source": [],
   "metadata": {
    "collapsed": false
   }
  },
  {
   "cell_type": "markdown",
   "source": [
    "### Get Additional Infos with Spotify-API"
   ],
   "metadata": {
    "collapsed": false
   }
  },
  {
   "cell_type": "markdown",
   "source": [
    "#### API-Dokumentation-Link\n",
    "https://developer.spotify.com/console/\n",
    "\n",
    "**Creating-Developer-Account:**\n",
    "https://medium.com/@maxtingle/getting-started-with-spotifys-api-spotipy-197c3dc6353b"
   ],
   "metadata": {
    "collapsed": false
   }
  },
  {
   "cell_type": "code",
   "execution_count": 2,
   "outputs": [],
   "source": [
    "# API-Setup\n",
    "# generate access token\n",
    "# save IDs from the new project in Spotify Developer Dashboard\n",
    "CLIENT_ID = 'your-client-id'\n",
    "CLIENT_SECRET = 'your-client-secret'\n",
    "\n",
    "# authentication URL\n",
    "AUTH_URL = 'https://accounts.spotify.com/api/token'\n",
    "\n",
    "# Post\n",
    "auth_response = requests.post(AUTH_URL, {\n",
    "    'grant_type': 'client_credentials',\n",
    "    'client_id': CLIENT_ID,\n",
    "    'client_secret': CLIENT_SECRET,\n",
    "})\n",
    "\n",
    "# convert the response to JSON\n",
    "auth_response_data = auth_response.json()\n",
    "\n",
    "# save the access token\n",
    "access_token = auth_response_data['access_token']\n",
    "\n",
    "# used for authenticating all API calls\n",
    "headers = {'Authorization': 'Bearer {token}'.format(token=access_token)}\n",
    "\n",
    "# base URL of all Spotify API endpoints\n",
    "BASE_URL = 'https://api.spotify.com/v1/'"
   ],
   "metadata": {
    "collapsed": false
   }
  },
  {
   "cell_type": "code",
   "execution_count": null,
   "outputs": [],
   "source": [],
   "metadata": {
    "collapsed": false
   }
  },
  {
   "cell_type": "markdown",
   "source": [
    "### Preparation Steps\n",
    "1. Find one song of each artist to get the track-uri, to be able to do api-calls to the track-endpoint\n",
    "2. Extract artists-uri of the api-calls\n",
    "3. Make api-calls to artists-endpoint to get additional features of artists like: genre, popularity, followers\n",
    "4. Additional Cleaning-Steps"
   ],
   "metadata": {
    "collapsed": false
   }
  },
  {
   "cell_type": "code",
   "execution_count": 45,
   "outputs": [],
   "source": [
    "# get one track id for each artist\n",
    "artists = df_music.master_metadata_album_artist_name.unique().tolist()\n",
    "artists_track_uri = []"
   ],
   "metadata": {
    "collapsed": false
   }
  },
  {
   "cell_type": "code",
   "execution_count": 48,
   "outputs": [
    {
     "name": "stderr",
     "output_type": "stream",
     "text": [
      "100%|██████████| 8371/8371 [00:56<00:00, 146.96it/s]\n"
     ]
    }
   ],
   "source": [
    "# search for one track-uri of each artist\n",
    "for v in tqdm(artists):\n",
    "    indices = df_music.index[df_music['master_metadata_album_artist_name'] == v]\n",
    "    first_index = indices[0]\n",
    "    if first_index:\n",
    "        track_uri = df_music.iloc[first_index]['uri']\n",
    "        #track_uri = df_music.at[df_music.index[first_index], 'uri']\n",
    "        artists_track_uri.append(track_uri)\n",
    "    else:\n",
    "        artists_track_uri.append(None)"
   ],
   "metadata": {
    "collapsed": false
   }
  },
  {
   "cell_type": "code",
   "execution_count": 75,
   "outputs": [],
   "source": [
    "# save in file\n",
    "df_artist_track_uri = pd.DataFrame(list(zip(artists, artists_track_uri)), columns =['artist', 'track_uri'])"
   ],
   "metadata": {
    "collapsed": false
   }
  },
  {
   "cell_type": "code",
   "execution_count": 7,
   "outputs": [],
   "source": [
    "df_artist_track_uri.head(20)"
   ],
   "metadata": {
    "collapsed": false
   }
  },
  {
   "cell_type": "code",
   "execution_count": null,
   "outputs": [],
   "source": [],
   "metadata": {
    "collapsed": false
   }
  },
  {
   "cell_type": "code",
   "execution_count": null,
   "outputs": [],
   "source": [
    "### make get calls with track-endpoint to get id of each artist"
   ],
   "metadata": {
    "collapsed": false
   }
  },
  {
   "cell_type": "code",
   "execution_count": 56,
   "outputs": [],
   "source": [
    "# create list with track-uris\n",
    "uri_list = df_artist_track_uri.track_uri.tolist()\n",
    "# list to save infos of API-Calls of each requested track informations\n",
    "track_info_list = []"
   ],
   "metadata": {
    "collapsed": false
   }
  },
  {
   "cell_type": "code",
   "execution_count": 65,
   "outputs": [
    {
     "name": "stderr",
     "output_type": "stream",
     "text": [
      "100%|██████████| 8371/8371 [15:43<00:00,  8.87it/s]  \n"
     ]
    }
   ],
   "source": [
    "# loop for each api-call of the tracks-endpoint\n",
    "for t in tqdm(uri_list):\n",
    "    track_info = requests.get(BASE_URL + 'tracks/' + t, headers=headers)\n",
    "    track_info_json = track_info.json()\n",
    "    track_info_list.append(track_info_json)\n"
   ],
   "metadata": {
    "collapsed": false
   }
  },
  {
   "cell_type": "code",
   "execution_count": 96,
   "outputs": [],
   "source": [
    "# lists to save artists and artists-uri\n",
    "artists_found = []\n",
    "artists_uri = []"
   ],
   "metadata": {
    "collapsed": false
   }
  },
  {
   "cell_type": "code",
   "execution_count": 97,
   "outputs": [
    {
     "name": "stderr",
     "output_type": "stream",
     "text": [
      "100%|██████████| 8371/8371 [00:00<00:00, 373242.18it/s]\n"
     ]
    }
   ],
   "source": [
    "# extraction of artists-uri\n",
    "for i in tqdm(range(len(track_info_list))):\n",
    "    track_content = track_info_list[i]\n",
    "    if 'error' not in track_content:\n",
    "        artist_name = track_info_list[i]['album']['artists'][0]['name']\n",
    "        artists_found.append(artist_name)\n",
    "        #print(artist_name)\n",
    "        artist_uri = track_info_list[i]['album']['artists'][0]['uri']\n",
    "        artist_uri = artist_uri.split(':')\n",
    "        artist_uri_id = artist_uri[2]\n",
    "        artists_uri.append(artist_uri_id)\n",
    "        #print(artist_uri_id)\n",
    "\n"
   ],
   "metadata": {
    "collapsed": false
   }
  },
  {
   "cell_type": "code",
   "execution_count": 100,
   "outputs": [],
   "source": [
    "df_artist_uri = pd.DataFrame(list(zip(artists_found, artists_uri)), columns =['artist', 'artist_uri'])"
   ],
   "metadata": {
    "collapsed": false
   }
  },
  {
   "cell_type": "code",
   "execution_count": 8,
   "outputs": [],
   "source": [
    "df_artist_uri.head()"
   ],
   "metadata": {
    "collapsed": false
   }
  },
  {
   "cell_type": "code",
   "execution_count": null,
   "outputs": [],
   "source": [],
   "metadata": {
    "collapsed": false
   }
  },
  {
   "cell_type": "code",
   "execution_count": 7,
   "outputs": [],
   "source": [
    "# list with artists-uri to make calls to artists-endpoint\n",
    "artist_uri_list = df_artist_uri.artist_uri.tolist()"
   ],
   "metadata": {
    "collapsed": false
   }
  },
  {
   "cell_type": "code",
   "execution_count": 18,
   "outputs": [],
   "source": [
    "# list to store information about each artist\n",
    "artists_info_list = []"
   ],
   "metadata": {
    "collapsed": false
   }
  },
  {
   "cell_type": "code",
   "execution_count": 19,
   "outputs": [
    {
     "name": "stderr",
     "output_type": "stream",
     "text": [
      "100%|██████████| 7078/7078 [12:31<00:00,  9.42it/s]\n"
     ]
    }
   ],
   "source": [
    "# loop for each api-call of the artists-endpoint\n",
    "for a in tqdm(artist_uri_list):\n",
    "    artist_info = requests.get(BASE_URL + 'artists/' + a, headers=headers)\n",
    "    artist_info_json = artist_info.json()\n",
    "    artists_info_list.append(artist_info_json)"
   ],
   "metadata": {
    "collapsed": false
   }
  },
  {
   "cell_type": "code",
   "execution_count": null,
   "outputs": [],
   "source": [],
   "metadata": {
    "collapsed": false
   }
  },
  {
   "cell_type": "code",
   "execution_count": 22,
   "outputs": [],
   "source": [
    "# list to store extracted info of artists\n",
    "artists_name = []\n",
    "artists_genre = []\n",
    "artists_popularity = []\n",
    "artists_id = []\n",
    "artists_type = []\n",
    "artists_followers = []\n",
    "\n"
   ],
   "metadata": {
    "collapsed": false
   }
  },
  {
   "cell_type": "code",
   "execution_count": 23,
   "outputs": [
    {
     "name": "stderr",
     "output_type": "stream",
     "text": [
      "100%|██████████| 7078/7078 [00:00<00:00, 425075.65it/s]\n"
     ]
    }
   ],
   "source": [
    "# loop to extract info of each artists\n",
    "for i in tqdm(range(len(artists_info_list))):\n",
    "    artist_info = artists_info_list[i]\n",
    "    artist_name = artist_info['name']\n",
    "    artists_name.append(artist_name)\n",
    "    artist_genre = artist_info['genres']\n",
    "    artists_genre.append(artist_genre)\n",
    "    artist_popularity = artist_info['popularity']\n",
    "    artists_popularity.append(artist_popularity)\n",
    "    artist_type = artist_info['type']\n",
    "    artists_type.append(artist_type)\n",
    "    artist_id = artist_info['id']\n",
    "    artists_id.append(artist_id)\n",
    "    artist_followers = artist_info['followers']['total']\n",
    "    artists_followers.append(artist_followers)\n",
    "\n"
   ],
   "metadata": {
    "collapsed": false
   }
  },
  {
   "cell_type": "code",
   "execution_count": null,
   "outputs": [],
   "source": [],
   "metadata": {
    "collapsed": false
   }
  },
  {
   "cell_type": "code",
   "execution_count": 24,
   "outputs": [],
   "source": [
    "# dataframe with info to each artist\n",
    "df_artist_info = pd.DataFrame(list(zip(artists_name, artists_id, artists_type, artists_popularity, artists_genre, artists_followers)), columns =['artist_name', 'artist_id', 'artist_type', 'artist_popularity', 'artist_genre', 'artist_followers'])"
   ],
   "metadata": {
    "collapsed": false
   }
  },
  {
   "cell_type": "code",
   "execution_count": 25,
   "outputs": [
    {
     "data": {
      "text/plain": "       artist_name               artist_id artist_type  artist_popularity  \\\n0      Wilder Gray  74RlyWfSIpHWsObpkuc0KC      artist                 21   \n1       Nick Jonas  4Rxn7Im3LGfyRkY2FlHhWi      artist                 64   \n2       Eric Chase  6UaMv59B64t5wi1vH4H5HT      artist                 37   \n3           Kalash  3J7r4VsNmuWixU0nXvyPd8      artist                 64   \n4  Various Artists  0LyfQWJT6nXafLPZqxe9Of      artist                  0   \n\n                                                   artist_genre  \\\n0                                                            []   \n1                          [dance pop, edm, pop, post-teen pop]   \n2                                                   [pop house]   \n3  [french hip hop, pop urbaine, rap antillais, trap antillais]   \n4                                                            []   \n\n   artist_followers  \n0               388  \n1           8570586  \n2              6113  \n3            504164  \n4           1697769  ",
      "text/html": "<div>\n<style scoped>\n    .dataframe tbody tr th:only-of-type {\n        vertical-align: middle;\n    }\n\n    .dataframe tbody tr th {\n        vertical-align: top;\n    }\n\n    .dataframe thead th {\n        text-align: right;\n    }\n</style>\n<table border=\"1\" class=\"dataframe\">\n  <thead>\n    <tr style=\"text-align: right;\">\n      <th></th>\n      <th>artist_name</th>\n      <th>artist_id</th>\n      <th>artist_type</th>\n      <th>artist_popularity</th>\n      <th>artist_genre</th>\n      <th>artist_followers</th>\n    </tr>\n  </thead>\n  <tbody>\n    <tr>\n      <th>0</th>\n      <td>Wilder Gray</td>\n      <td>74RlyWfSIpHWsObpkuc0KC</td>\n      <td>artist</td>\n      <td>21</td>\n      <td>[]</td>\n      <td>388</td>\n    </tr>\n    <tr>\n      <th>1</th>\n      <td>Nick Jonas</td>\n      <td>4Rxn7Im3LGfyRkY2FlHhWi</td>\n      <td>artist</td>\n      <td>64</td>\n      <td>[dance pop, edm, pop, post-teen pop]</td>\n      <td>8570586</td>\n    </tr>\n    <tr>\n      <th>2</th>\n      <td>Eric Chase</td>\n      <td>6UaMv59B64t5wi1vH4H5HT</td>\n      <td>artist</td>\n      <td>37</td>\n      <td>[pop house]</td>\n      <td>6113</td>\n    </tr>\n    <tr>\n      <th>3</th>\n      <td>Kalash</td>\n      <td>3J7r4VsNmuWixU0nXvyPd8</td>\n      <td>artist</td>\n      <td>64</td>\n      <td>[french hip hop, pop urbaine, rap antillais, trap antillais]</td>\n      <td>504164</td>\n    </tr>\n    <tr>\n      <th>4</th>\n      <td>Various Artists</td>\n      <td>0LyfQWJT6nXafLPZqxe9Of</td>\n      <td>artist</td>\n      <td>0</td>\n      <td>[]</td>\n      <td>1697769</td>\n    </tr>\n  </tbody>\n</table>\n</div>"
     },
     "execution_count": 25,
     "metadata": {},
     "output_type": "execute_result"
    }
   ],
   "source": [
    "df_artist_info.head()"
   ],
   "metadata": {
    "collapsed": false
   }
  },
  {
   "cell_type": "code",
   "execution_count": 63,
   "outputs": [],
   "source": [
    "# merge additional info of each artist to the main streaming history dataframe\n",
    "df_music_final = df_music.merge(df_artist_info, on='master_metadata_album_artist_name', how='left')"
   ],
   "metadata": {
    "collapsed": false
   }
  },
  {
   "cell_type": "code",
   "execution_count": 9,
   "outputs": [],
   "source": [
    "df_music_final.head()"
   ],
   "metadata": {
    "collapsed": false
   }
  },
  {
   "cell_type": "code",
   "execution_count": 35,
   "outputs": [],
   "source": [
    "# renaming of files\n",
    "df_music_final.rename({'ts' : 'play_date', 'master_metadata_album_artist_name' : 'artist_name', 'master_metadata_album_album_name' : 'album_name', 'master_metadata_track_name' : 'track_name', 'uri' : 'track_uri', 'artist_id' : 'artist_uri'}, axis = 1, inplace = True)\n"
   ],
   "metadata": {
    "collapsed": false
   }
  },
  {
   "cell_type": "code",
   "execution_count": 135,
   "outputs": [],
   "source": [
    "# function to find the most precise genre of each artist to select only one genre to each artist\n",
    "def find_shortest_string(genre_list):\n",
    "    \"\"\"\n",
    "    find the shortest string in list of strings\n",
    "    :param list genre_list: list of different genres associated with the artist\n",
    "    :return: shortest and most precise genre\n",
    "    \"\"\"\n",
    "    shortest_strings = []\n",
    "    if isinstance(genre_list, float):\n",
    "        return None\n",
    "    else:\n",
    "        if len(genre_list) >= 1:\n",
    "            min_word = min(genre_list, key=len)\n",
    "            len_min_word = len(min_word)\n",
    "            for genre in genre_list:\n",
    "                if len(genre) == len_min_word:\n",
    "                    shortest_strings.append(genre)\n",
    "                else:\n",
    "                    pass\n",
    "            return random.choice(shortest_strings)\n",
    "\n"
   ],
   "metadata": {
    "collapsed": false
   }
  },
  {
   "cell_type": "code",
   "execution_count": 142,
   "outputs": [],
   "source": [
    "# apply function to select the most precise genre to each artist\n",
    "df_music_final[\"artist_genre\"]= df_music_final[\"artist_genre\"].fillna(\"[]\")\n",
    "df_music_final[\"artist_genre\"] = df_music_final[\"artist_genre\"].apply(eval)\n",
    "df_music_final[\"single_genre\"] = df_music_final[\"artist_genre\"].apply(find_shortest_string)"
   ],
   "metadata": {
    "collapsed": false
   }
  },
  {
   "cell_type": "code",
   "execution_count": 10,
   "outputs": [],
   "source": [
    "df_music_final.head(15)"
   ],
   "metadata": {
    "collapsed": false
   }
  },
  {
   "cell_type": "code",
   "execution_count": 12,
   "outputs": [],
   "source": [
    "# extract time features of the play_date column\n",
    "df_music_final['date'] = pd.DatetimeIndex(df_music_final['play_date']).date\n",
    "df_music_final['time'] = pd.DatetimeIndex(df_music_final['play_date']).time\n",
    "df_music_final['week'] = pd.DatetimeIndex(df_music_final['play_date']).week\n",
    "df_music_final['weekday'] = pd.DatetimeIndex(df_music_final['play_date']).weekday\n",
    "df_music_final['artist_popularity'] = df_music_final['artist_popularity'].fillna(0).astype('int')\n",
    "df_music_final['artist_followers'] = df_music_final['artist_followers'].fillna(0).astype('int')"
   ],
   "metadata": {
    "collapsed": false
   }
  },
  {
   "cell_type": "code",
   "execution_count": 14,
   "outputs": [],
   "source": [
    "# drop not important columns\n",
    "df_music_final.drop(['username', 'spotify_track_uri', 'ip_addr_decrypted', 'user_agent_decrypted', 'offline_timestamp', 'artist_type'], axis=1, inplace=True)"
   ],
   "metadata": {
    "collapsed": false
   }
  },
  {
   "cell_type": "code",
   "execution_count": null,
   "outputs": [],
   "source": [
    "# renaming of columns\n",
    "df_music_final.rename({'ts' : 'play_date', 'master_metadata_album_artist_name' : 'artist_name', 'master_metadata_album_album_name' : 'album_name', 'master_metadata_track_name' : 'track_name', 'uri' : 'track_uri', 'artist_id' : 'artist_uri'}, axis = 1, inplace = True)"
   ],
   "metadata": {
    "collapsed": false
   }
  },
  {
   "cell_type": "code",
   "execution_count": 18,
   "outputs": [],
   "source": [
    "# rearranging\n",
    "df_music_final = df_music_final[['play_date', 'year', 'date', 'time', 'week', 'weekday', 'platform', 'artist_name', 'album_name', 'track_name', 'track_uri', 'ms_played', 'seconds_played', 'minutes_played', 'conn_country', 'reason_start', 'reason_end', 'shuffle', 'skipped', 'offline', 'incognito_mode', 'artist_uri', 'artist_popularity', 'artist_genre','single_genre', 'artist_followers']]"
   ],
   "metadata": {
    "collapsed": false
   }
  },
  {
   "cell_type": "code",
   "execution_count": 24,
   "outputs": [
    {
     "data": {
      "text/plain": "                   play_date  year        date      time  week  weekday  \\\n0  2019-08-02 05:16:32+00:00  2019  2019-08-02  05:16:32    31        4   \n1  2021-07-09 19:26:10+00:00  2021  2021-07-09  19:26:10    27        4   \n2  2013-06-09 12:40:58+00:00  2013  2013-06-09  12:40:58    23        6   \n3  2020-11-16 19:50:06+00:00  2020  2020-11-16  19:50:06    47        0   \n4  2022-06-23 19:14:10+00:00  2022  2022-06-23  19:14:10    25        3   \n\n                                                                        platform  \\\n0                                                        iOS 12.3.2 (iPhone10,2)   \n1                                                          iOS 14.6 (iPhone12,1)   \n2                                             Windows 7 (Unknown Ed) SP1 [x86 0]   \n3  Partner amazon_salmon Amazon;Echo_Dot;27d4dfe427b34d57995b463e5d63198d;;tpapi   \n4                                                          iOS 15.5 (iPhone12,1)   \n\n            artist_name                                            album_name  \\\n0           Major Lazer                                 Can't Take It From Me   \n1              GT_Ofice                                             Ooh La La   \n2  Michael Mind Project  Kontor Presents Michael Mind Project - State of Mind   \n3              Nordfold                                   Down Memory Lane EP   \n4           Alan Walker                             Avem (The Aviation Theme)   \n\n                                    track_name               track_uri  \\\n0  Can't Take It From Me - Paul Woolford Remix  2A8uxtb4LEXvwukVVMeBU4   \n1                                    Ooh La La  3lQiZXNB9YoxgCBtXjZjGm   \n2        Love's Gonna Get You - G&G Remix Edit  5zTF59Ft413797mxMQF1PY   \n3                                      Rituals  0bzNhNVnXxKtrPhH2ragS9   \n4                    Avem (The Aviation Theme)  0NBD4g9Zwy1rMAMWBYS6Ju   \n\n   ms_played  seconds_played  minutes_played conn_country reason_start  \\\n0       6293           6.293        0.104883           DE     clickrow   \n1      26871          26.871        0.447850           HR      playbtn   \n2     167990         167.990        2.799833           DE        popup   \n3     200231         200.231        3.337183           AT    trackdone   \n4      38440          38.440        0.640667           DE       fwdbtn   \n\n  reason_end  shuffle  skipped  offline  incognito_mode  \\\n0    endplay    False      NaN    False           False   \n1     logout     True      NaN    False           False   \n2  trackdone    False      0.0    False           False   \n3  trackdone    False      NaN    False           False   \n4     fwdbtn     True      NaN    False           False   \n\n               artist_uri  artist_popularity  \\\n0  738wLrAtLtCtFOLvQBXOXp                 74   \n1  0KdM0f9BzAkPzHFxxnn2tS                 36   \n2  3I4ttwmYBwsR01fin6ItJR                 42   \n3  2QAapUP6tz100gnoEb0ITc                 29   \n4  7vk5e3vY1uw9plTHJAMwjN                 81   \n\n                                                                                           artist_genre  \\\n0  ['dance pop', 'edm', 'electro house', 'moombahton', 'pop', 'pop dance', 'pop rap', 'tropical house']   \n1                                                                                                    []   \n2                                                                             ['hands up', 'pop house']   \n3                                                                                                    []   \n4                                                                                     ['electro house']   \n\n    single_genre  artist_followers  \n0            edm           6320502  \n1            NaN              2803  \n2       hands up             44026  \n3            NaN              2699  \n4  electro house          36329657  ",
      "text/html": "<div>\n<style scoped>\n    .dataframe tbody tr th:only-of-type {\n        vertical-align: middle;\n    }\n\n    .dataframe tbody tr th {\n        vertical-align: top;\n    }\n\n    .dataframe thead th {\n        text-align: right;\n    }\n</style>\n<table border=\"1\" class=\"dataframe\">\n  <thead>\n    <tr style=\"text-align: right;\">\n      <th></th>\n      <th>play_date</th>\n      <th>year</th>\n      <th>date</th>\n      <th>time</th>\n      <th>week</th>\n      <th>weekday</th>\n      <th>platform</th>\n      <th>artist_name</th>\n      <th>album_name</th>\n      <th>track_name</th>\n      <th>track_uri</th>\n      <th>ms_played</th>\n      <th>seconds_played</th>\n      <th>minutes_played</th>\n      <th>conn_country</th>\n      <th>reason_start</th>\n      <th>reason_end</th>\n      <th>shuffle</th>\n      <th>skipped</th>\n      <th>offline</th>\n      <th>incognito_mode</th>\n      <th>artist_uri</th>\n      <th>artist_popularity</th>\n      <th>artist_genre</th>\n      <th>single_genre</th>\n      <th>artist_followers</th>\n    </tr>\n  </thead>\n  <tbody>\n    <tr>\n      <th>0</th>\n      <td>2019-08-02 05:16:32+00:00</td>\n      <td>2019</td>\n      <td>2019-08-02</td>\n      <td>05:16:32</td>\n      <td>31</td>\n      <td>4</td>\n      <td>iOS 12.3.2 (iPhone10,2)</td>\n      <td>Major Lazer</td>\n      <td>Can't Take It From Me</td>\n      <td>Can't Take It From Me - Paul Woolford Remix</td>\n      <td>2A8uxtb4LEXvwukVVMeBU4</td>\n      <td>6293</td>\n      <td>6.293</td>\n      <td>0.104883</td>\n      <td>DE</td>\n      <td>clickrow</td>\n      <td>endplay</td>\n      <td>False</td>\n      <td>NaN</td>\n      <td>False</td>\n      <td>False</td>\n      <td>738wLrAtLtCtFOLvQBXOXp</td>\n      <td>74</td>\n      <td>['dance pop', 'edm', 'electro house', 'moombahton', 'pop', 'pop dance', 'pop rap', 'tropical house']</td>\n      <td>edm</td>\n      <td>6320502</td>\n    </tr>\n    <tr>\n      <th>1</th>\n      <td>2021-07-09 19:26:10+00:00</td>\n      <td>2021</td>\n      <td>2021-07-09</td>\n      <td>19:26:10</td>\n      <td>27</td>\n      <td>4</td>\n      <td>iOS 14.6 (iPhone12,1)</td>\n      <td>GT_Ofice</td>\n      <td>Ooh La La</td>\n      <td>Ooh La La</td>\n      <td>3lQiZXNB9YoxgCBtXjZjGm</td>\n      <td>26871</td>\n      <td>26.871</td>\n      <td>0.447850</td>\n      <td>HR</td>\n      <td>playbtn</td>\n      <td>logout</td>\n      <td>True</td>\n      <td>NaN</td>\n      <td>False</td>\n      <td>False</td>\n      <td>0KdM0f9BzAkPzHFxxnn2tS</td>\n      <td>36</td>\n      <td>[]</td>\n      <td>NaN</td>\n      <td>2803</td>\n    </tr>\n    <tr>\n      <th>2</th>\n      <td>2013-06-09 12:40:58+00:00</td>\n      <td>2013</td>\n      <td>2013-06-09</td>\n      <td>12:40:58</td>\n      <td>23</td>\n      <td>6</td>\n      <td>Windows 7 (Unknown Ed) SP1 [x86 0]</td>\n      <td>Michael Mind Project</td>\n      <td>Kontor Presents Michael Mind Project - State of Mind</td>\n      <td>Love's Gonna Get You - G&amp;G Remix Edit</td>\n      <td>5zTF59Ft413797mxMQF1PY</td>\n      <td>167990</td>\n      <td>167.990</td>\n      <td>2.799833</td>\n      <td>DE</td>\n      <td>popup</td>\n      <td>trackdone</td>\n      <td>False</td>\n      <td>0.0</td>\n      <td>False</td>\n      <td>False</td>\n      <td>3I4ttwmYBwsR01fin6ItJR</td>\n      <td>42</td>\n      <td>['hands up', 'pop house']</td>\n      <td>hands up</td>\n      <td>44026</td>\n    </tr>\n    <tr>\n      <th>3</th>\n      <td>2020-11-16 19:50:06+00:00</td>\n      <td>2020</td>\n      <td>2020-11-16</td>\n      <td>19:50:06</td>\n      <td>47</td>\n      <td>0</td>\n      <td>Partner amazon_salmon Amazon;Echo_Dot;27d4dfe427b34d57995b463e5d63198d;;tpapi</td>\n      <td>Nordfold</td>\n      <td>Down Memory Lane EP</td>\n      <td>Rituals</td>\n      <td>0bzNhNVnXxKtrPhH2ragS9</td>\n      <td>200231</td>\n      <td>200.231</td>\n      <td>3.337183</td>\n      <td>AT</td>\n      <td>trackdone</td>\n      <td>trackdone</td>\n      <td>False</td>\n      <td>NaN</td>\n      <td>False</td>\n      <td>False</td>\n      <td>2QAapUP6tz100gnoEb0ITc</td>\n      <td>29</td>\n      <td>[]</td>\n      <td>NaN</td>\n      <td>2699</td>\n    </tr>\n    <tr>\n      <th>4</th>\n      <td>2022-06-23 19:14:10+00:00</td>\n      <td>2022</td>\n      <td>2022-06-23</td>\n      <td>19:14:10</td>\n      <td>25</td>\n      <td>3</td>\n      <td>iOS 15.5 (iPhone12,1)</td>\n      <td>Alan Walker</td>\n      <td>Avem (The Aviation Theme)</td>\n      <td>Avem (The Aviation Theme)</td>\n      <td>0NBD4g9Zwy1rMAMWBYS6Ju</td>\n      <td>38440</td>\n      <td>38.440</td>\n      <td>0.640667</td>\n      <td>DE</td>\n      <td>fwdbtn</td>\n      <td>fwdbtn</td>\n      <td>True</td>\n      <td>NaN</td>\n      <td>False</td>\n      <td>False</td>\n      <td>7vk5e3vY1uw9plTHJAMwjN</td>\n      <td>81</td>\n      <td>['electro house']</td>\n      <td>electro house</td>\n      <td>36329657</td>\n    </tr>\n  </tbody>\n</table>\n</div>"
     },
     "execution_count": 24,
     "metadata": {},
     "output_type": "execute_result"
    }
   ],
   "source": [
    "df_music_final.head()"
   ],
   "metadata": {
    "collapsed": false
   }
  },
  {
   "cell_type": "code",
   "execution_count": 25,
   "outputs": [],
   "source": [
    "# save cleaned dataframe to csv-file\n",
    "df_music_final.to_csv('music_streaming_data_clean.csv', encoding=\"utf-8\", index=False)"
   ],
   "metadata": {
    "collapsed": false
   }
  },
  {
   "cell_type": "code",
   "execution_count": null,
   "outputs": [],
   "source": [],
   "metadata": {
    "collapsed": false
   }
  },
  {
   "cell_type": "code",
   "execution_count": null,
   "outputs": [],
   "source": [],
   "metadata": {
    "collapsed": false
   }
  }
 ],
 "metadata": {
  "kernelspec": {
   "display_name": "Python 3",
   "language": "python",
   "name": "python3"
  },
  "language_info": {
   "codemirror_mode": {
    "name": "ipython",
    "version": 2
   },
   "file_extension": ".py",
   "mimetype": "text/x-python",
   "name": "python",
   "nbconvert_exporter": "python",
   "pygments_lexer": "ipython2",
   "version": "2.7.6"
  }
 },
 "nbformat": 4,
 "nbformat_minor": 0
}
